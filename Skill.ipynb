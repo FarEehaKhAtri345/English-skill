{
  "nbformat": 4,
  "nbformat_minor": 0,
  "metadata": {
    "colab": {
      "provenance": [],
      "authorship_tag": "ABX9TyPxzn4w/PlT0fpOrgN/JXlB",
      "include_colab_link": true
    },
    "kernelspec": {
      "name": "python3",
      "display_name": "Python 3"
    },
    "language_info": {
      "name": "python"
    }
  },
  "cells": [
    {
      "cell_type": "markdown",
      "metadata": {
        "id": "view-in-github",
        "colab_type": "text"
      },
      "source": [
        "<a href=\"https://colab.research.google.com/github/FarEehaKhAtri345/English-skill/blob/main/Skill.ipynb\" target=\"_parent\"><img src=\"https://colab.research.google.com/assets/colab-badge.svg\" alt=\"Open In Colab\"/></a>"
      ]
    },
    {
      "cell_type": "code",
      "source": [
        "import random\n",
        "import nltk\n",
        "from nltk.chat.util import Chat, reflections\n",
        "\n",
        "# Vocabulary and grammar questions for English practice\n",
        "vocabulary_questions = [\n",
        "    {\n",
        "        \"question\": \"What is a synonym for 'happy'?\",\n",
        "        \"options\": [\"Sad\", \"Joyful\", \"Angry\", \"Tired\"],\n",
        "        \"answer\": \"Joyful\"\n",
        "    },\n",
        "    {\n",
        "        \"question\": \"Choose the correct word: 'He is very _____ in the morning.'\",\n",
        "        \"options\": [\"tired\", \"awake\", \"sleepy\", \"hungry\"],\n",
        "        \"answer\": \"sleepy\"\n",
        "    },\n",
        "]\n",
        "\n",
        "grammar_questions = [\n",
        "    {\n",
        "        \"question\": \"Which one is correct: 'She have a dog' or 'She has a dog'?\",\n",
        "        \"answer\": \"She has a dog\"\n",
        "    },\n",
        "    {\n",
        "        \"question\": \"Fill in the blank: 'I _____ to the market yesterday.' (go)\",\n",
        "        \"answer\": \"went\"\n",
        "    }\n",
        "]\n",
        "\n",
        "comprehension_questions = [\n",
        "    {\n",
        "        \"question\": \"Translate this sentence to English: 'Elle mange une pomme.'\",\n",
        "        \"answer\": \"She is eating an apple\"\n",
        "    }\n",
        "]\n",
        "\n",
        "# Define a few response patterns\n",
        "pairs = [\n",
        "    [\n",
        "        r\"hi|hello|hey\",\n",
        "        [\"Hello! I'm here to help you improve your English skills. What would you like to practice? Vocabulary, grammar, or comprehension?\"]\n",
        "    ],\n",
        "    [\n",
        "        r\"(.*) vocabulary\",\n",
        "        [\"Great! Let's work on vocabulary. Here's your question: \"]\n",
        "    ],\n",
        "    [\n",
        "        r\"(.*) grammar\",\n",
        "        [\"Let's dive into grammar. Here's a question for you: \"]\n",
        "    ],\n",
        "    [\n",
        "        r\"(.*) comprehension\",\n",
        "        [\"Alright! Let's practice comprehension. Here's your question: \"]\n",
        "    ],\n",
        "    [\n",
        "        r\"(.*) bye|quit\",\n",
        "        [\"Goodbye! Keep practicing and come back anytime.\"]\n",
        "    ]\n",
        "]\n",
        "\n",
        "# Helper function to ask questions\n",
        "def ask_question(question_set):\n",
        "    question = random.choice(question_set)\n",
        "    print(\"\\nQuestion:\", question[\"question\"])\n",
        "    if \"options\" in question:\n",
        "        print(\"Options:\", \", \".join(question[\"options\"]))\n",
        "    user_answer = input(\"Your answer: \")\n",
        "    if user_answer.lower() == question[\"answer\"].lower():\n",
        "        return \"Correct! Well done.\"\n",
        "    else:\n",
        "        return f\"Oops! The correct answer is '{question['answer']}'. Keep practicing!\"\n",
        "\n",
        "# Start the bot\n",
        "print(\"Hello! I'm your English practice bot. Type 'quit' to end the conversation.\")\n",
        "while True:\n",
        "    user_input = input(\"You: \")\n",
        "    if user_input.lower() in [\"quit\", \"bye\"]:\n",
        "        print(\"Bot: Goodbye! Keep practicing.\")\n",
        "        break\n",
        "\n",
        "    # Respond based on the input type\n",
        "    if \"vocabulary\" in user_input.lower():\n",
        "        response = ask_question(vocabulary_questions)\n",
        "    elif \"grammar\" in user_input.lower():\n",
        "        response = ask_question(grammar_questions)\n",
        "    elif \"comprehension\" in user_input.lower():\n",
        "        response = ask_question(comprehension_questions)\n",
        "    else:\n",
        "        response = Chat(pairs, reflections).respond(user_input)\n",
        "\n",
        "    print(\"Bot:\", response)"
      ],
      "metadata": {
        "colab": {
          "base_uri": "https://localhost:8080/"
        },
        "id": "Jx0492b5gnbX",
        "outputId": "c481ab22-3234-4167-908d-7aa9e74c56a4"
      },
      "execution_count": 7,
      "outputs": [
        {
          "output_type": "stream",
          "name": "stdout",
          "text": [
            "Hello! I'm your English practice bot. Type 'quit' to end the conversation.\n",
            "You: What is opposite of man \n",
            "Bot: None\n",
            "You: What is translation \n",
            "Bot: None\n",
            "You: I want learn tense \n",
            "Bot: None\n",
            "You: Grammar \n",
            "\n",
            "Question: Which one is correct: 'She have a dog' or 'She has a dog'?\n",
            "Your answer: She have a dog\n",
            "Bot: Oops! The correct answer is 'She has a dog'. Keep practicing!\n",
            "You: Vocabulary \n",
            "\n",
            "Question: Choose the correct word: 'He is very _____ in the morning.'\n",
            "Options: tired, awake, sleepy, hungry\n",
            "Your answer: Awake\n",
            "Bot: Oops! The correct answer is 'sleepy'. Keep practicing!\n",
            "You: Quit\n",
            "Bot: Goodbye! Keep practicing.\n"
          ]
        }
      ]
    }
  ]
}